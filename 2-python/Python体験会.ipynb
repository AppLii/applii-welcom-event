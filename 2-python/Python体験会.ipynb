{
 "cells": [
  {
   "cell_type": "markdown",
   "id": "2719d29434cd7982",
   "metadata": {},
   "source": [
    "# Python プログラミング体験会\n",
    "- 主催：AppLii\n",
    "- 日時：2025 年 5 月 20 日"
   ]
  },
  {
   "cell_type": "markdown",
   "id": "ec7ae3271da86c5a",
   "metadata": {},
   "source": [
    "## 3. Python 入門講座のゴール\n",
    "- 変数・基本データ型を理解する\n",
    "- 標準入出力で値を受け渡す\n",
    "- 条件分岐・ループを体験する"
   ]
  },
  {
   "cell_type": "markdown",
   "id": "6d8ad668b24683da",
   "metadata": {},
   "source": [
    "### 3.1 変数とは\n",
    "- **イメージ**：値を格納する\\\"箱\\\"\n",
    "- **書き方**：`x = 1`\n",
    "  - 変数`x`に整数`1`を代入"
   ]
  },
  {
   "metadata": {},
   "cell_type": "code",
   "outputs": [
    {
     "name": "stdout",
     "output_type": "stream",
     "text": [
      "2\n"
     ]
    }
   ],
   "execution_count": 17,
   "source": [
    "x = 1\n",
    "x = x + 1\n",
    "print(x)"
   ],
   "id": "38a7b3a08c09de5b"
  },
  {
   "metadata": {},
   "cell_type": "markdown",
   "source": [
    "### 3.2 基本データ型\n",
    "\n",
    "| 型     | 説明      | 例               |\n",
    "|-------|---------|-----------------|\n",
    "| int   | 整数型     | `10`, `-3`      |\n",
    "| float | 小数点付き数値 | `3.14`, `-0.5`  |\n",
    "| str   | 文字列     | `\"Hello\"`       |\n",
    "| bool  | 真偽値     | `True`, `False` |"
   ],
   "id": "f4ad0d59e08a0742"
  },
  {
   "cell_type": "code",
   "id": "39840811c090a09d",
   "metadata": {
    "ExecuteTime": {
     "end_time": "2025-05-19T05:19:36.922482Z",
     "start_time": "2025-05-19T05:19:36.919481Z"
    }
   },
   "source": [
    "a = 10\n",
    "b = 3.14\n",
    "c = \"Hello\"\n",
    "d = True\n",
    "print(type(a))\n",
    "print(type(b))\n",
    "print(type(c))\n",
    "print(type(d))"
   ],
   "outputs": [
    {
     "name": "stdout",
     "output_type": "stream",
     "text": [
      "<class 'int'>\n",
      "<class 'float'>\n",
      "<class 'str'>\n",
      "<class 'bool'>\n"
     ]
    }
   ],
   "execution_count": 8
  },
  {
   "cell_type": "markdown",
   "id": "d07b6c686bc65fdd",
   "metadata": {},
   "source": [
    "### 3.3 標準入出力（input / print）\n",
    "- **入力**：`input()` → 1 行読み込み（`str`）\n",
    "- **出力**：`print()`で表示"
   ]
  },
  {
   "cell_type": "code",
   "id": "c049027dec125693",
   "metadata": {
    "ExecuteTime": {
     "end_time": "2025-05-19T05:20:34.464537Z",
     "start_time": "2025-05-19T05:20:25.522299Z"
    }
   },
   "source": [
    "name = input()\n",
    "print(\"こんにちは、\", name)"
   ],
   "outputs": [
    {
     "name": "stdout",
     "output_type": "stream",
     "text": [
      "こんにちは、 しんひろあき\n"
     ]
    }
   ],
   "execution_count": 9
  },
  {
   "metadata": {
    "ExecuteTime": {
     "end_time": "2025-05-19T05:21:04.811379Z",
     "start_time": "2025-05-19T05:20:56.187920Z"
    }
   },
   "cell_type": "code",
   "source": [
    "i = int(input())\n",
    "print(i * 2)"
   ],
   "id": "dbeeea820999d271",
   "outputs": [
    {
     "name": "stdout",
     "output_type": "stream",
     "text": [
      "12\n"
     ]
    }
   ],
   "execution_count": 10
  },
  {
   "metadata": {
    "ExecuteTime": {
     "end_time": "2025-05-19T05:21:19.517545Z",
     "start_time": "2025-05-19T05:21:12.180270Z"
    }
   },
   "cell_type": "code",
   "source": [
    "f = float(input())\n",
    "print(f * 2)"
   ],
   "id": "d3f8573b1714e92a",
   "outputs": [
    {
     "name": "stdout",
     "output_type": "stream",
     "text": [
      "6.28\n"
     ]
    }
   ],
   "execution_count": 11
  },
  {
   "cell_type": "markdown",
   "id": "18b6f4208b8811a2",
   "metadata": {},
   "source": [
    "### 3.4 条件分岐（if / elif / else）\n",
    "- **目的**：条件に応じて処理を分岐\n",
    "\t- インデントで、処理範囲を指定"
   ]
  },
  {
   "metadata": {
    "ExecuteTime": {
     "end_time": "2025-05-19T05:22:26.759828Z",
     "start_time": "2025-05-19T05:22:26.755918Z"
    }
   },
   "cell_type": "code",
   "source": [
    "x = int(input())\n",
    "y = int(input())\n",
    "if x > y:\n",
    "print(\"xが大きい\")\n",
    "elif x == y:\n",
    "print(\"同じ\")\n",
    "else:\n",
    "print(\"yが大きい\")"
   ],
   "id": "f1a7145ff816dc98",
   "outputs": [
    {
     "ename": "IndentationError",
     "evalue": "expected an indented block after 'if' statement on line 3 (2447941034.py, line 4)",
     "output_type": "error",
     "traceback": [
      "\u001B[1;36m  Cell \u001B[1;32mIn[12], line 4\u001B[1;36m\u001B[0m\n\u001B[1;33m    print(\"xが大きい\")\u001B[0m\n\u001B[1;37m    ^\u001B[0m\n\u001B[1;31mIndentationError\u001B[0m\u001B[1;31m:\u001B[0m expected an indented block after 'if' statement on line 3\n"
     ]
    }
   ],
   "execution_count": 12
  },
  {
   "metadata": {
    "ExecuteTime": {
     "end_time": "2025-05-19T05:23:05.267618Z",
     "start_time": "2025-05-19T05:22:58.806167Z"
    }
   },
   "cell_type": "code",
   "source": [
    "x = int(input())\n",
    "y = int(input())\n",
    "if x > y:\n",
    "\tprint(\"xが大きい\")\n",
    "elif x == y:\n",
    "\tprint(\"同じ\")\n",
    "else:\n",
    "\tprint(\"yが大きい\")"
   ],
   "id": "e01aca54367c6237",
   "outputs": [
    {
     "name": "stdout",
     "output_type": "stream",
     "text": [
      "xが大きい\n"
     ]
    }
   ],
   "execution_count": 13
  },
  {
   "cell_type": "markdown",
   "id": "ef6cb1198734ac27",
   "metadata": {},
   "source": [
    "### 3.5 for 文と while 文\n",
    "\n",
    "- **目的**：繰り返し処理\n",
    "\t- `for i in range(n):` -> i を 0 から n-1 まで ループ させる。Σみたいなイメージ\n",
    "\t- **インデント**で繰り返し処理を行う範囲の指定\n",
    "\t- `while True:` -> 無限ループを行う。内部で`break`が実行されたらループが終わる。"
   ]
  },
  {
   "cell_type": "code",
   "id": "307a5186ff60b69",
   "metadata": {
    "ExecuteTime": {
     "end_time": "2025-05-19T05:24:23.837267Z",
     "start_time": "2025-05-19T05:24:23.833436Z"
    }
   },
   "source": [
    "for i in range(5):\n",
    "print(i)"
   ],
   "outputs": [
    {
     "ename": "IndentationError",
     "evalue": "expected an indented block after 'for' statement on line 1 (2354298891.py, line 2)",
     "output_type": "error",
     "traceback": [
      "\u001B[1;36m  Cell \u001B[1;32mIn[14], line 2\u001B[1;36m\u001B[0m\n\u001B[1;33m    print(i)\u001B[0m\n\u001B[1;37m    ^\u001B[0m\n\u001B[1;31mIndentationError\u001B[0m\u001B[1;31m:\u001B[0m expected an indented block after 'for' statement on line 1\n"
     ]
    }
   ],
   "execution_count": 14
  },
  {
   "cell_type": "code",
   "id": "d259e2d5da4d9136",
   "metadata": {
    "ExecuteTime": {
     "end_time": "2025-05-19T05:24:32.017703Z",
     "start_time": "2025-05-19T05:24:32.015217Z"
    }
   },
   "source": [
    "for i in range(5):\n",
    "\tprint(i)"
   ],
   "outputs": [
    {
     "name": "stdout",
     "output_type": "stream",
     "text": [
      "0\n",
      "1\n",
      "2\n",
      "3\n",
      "4\n"
     ]
    }
   ],
   "execution_count": 15
  },
  {
   "metadata": {
    "ExecuteTime": {
     "end_time": "2025-05-19T05:25:19.794623Z",
     "start_time": "2025-05-19T05:25:06.309466Z"
    }
   },
   "cell_type": "code",
   "source": [
    "while True:\n",
    "\tx = int(input())\n",
    "\tif x == 0:\n",
    "\t\tbreak\n",
    "\tprint(x)"
   ],
   "id": "a847936414df397d",
   "outputs": [
    {
     "name": "stdout",
     "output_type": "stream",
     "text": [
      "6\n",
      "89\n"
     ]
    }
   ],
   "execution_count": 16
  }
 ],
 "metadata": {
  "kernelspec": {
   "display_name": "Python 3",
   "language": "python",
   "name": "python3"
  },
  "language_info": {
   "codemirror_mode": {
    "name": "ipython",
    "version": 2
   },
   "file_extension": ".py",
   "mimetype": "text/x-python",
   "name": "python",
   "nbconvert_exporter": "python",
   "pygments_lexer": "ipython2",
   "version": "2.7.6"
  }
 },
 "nbformat": 4,
 "nbformat_minor": 5
}
