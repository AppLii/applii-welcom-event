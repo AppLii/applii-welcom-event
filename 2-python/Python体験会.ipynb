{
 "cells": [
  {
   "cell_type": "markdown",
   "id": "2719d29434cd7982",
   "metadata": {},
   "source": [
    "# Python プログラミング体験会\n",
    "- 主催：AppLii\n",
    "- 日時：2025 年 5 月 20 日"
   ]
  },
  {
   "cell_type": "markdown",
   "id": "ec7ae3271da86c5a",
   "metadata": {},
   "source": [
    "## 3. Python 入門講座のゴール\n",
    "- 変数・基本データ型を理解する\n",
    "- 標準入出力で値を受け渡す\n",
    "- 条件分岐・ループを体験する"
   ]
  },
  {
   "cell_type": "markdown",
   "id": "6d8ad668b24683da",
   "metadata": {},
   "source": [
    "### 3.1 変数とは\n",
    "- **イメージ**：値を格納する\\\"箱\\\"\n",
    "- **書き方**：`x = 1`\n",
    "  - 変数`x`に整数`1`を代入"
   ]
  },
  {
   "metadata": {},
   "cell_type": "code",
   "source": [
    "x = 1\n",
    "x = x + 1\n",
    "print(x)"
   ],
   "id": "38a7b3a08c09de5b",
   "outputs": [],
   "execution_count": null
  },
  {
   "metadata": {},
   "cell_type": "markdown",
   "source": [
    "### 3.2 基本データ型\n",
    "\n",
    "| 型     | 説明      | 例               |\n",
    "|-------|---------|-----------------|\n",
    "| int   | 整数型     | `10`, `-3`      |\n",
    "| float | 小数点付き数値 | `3.14`, `-0.5`  |\n",
    "| str   | 文字列     | `\"Hello\"`       |\n",
    "| bool  | 真偽値     | `True`, `False` |"
   ],
   "id": "f4ad0d59e08a0742"
  },
  {
   "metadata": {},
   "cell_type": "code",
   "source": [
    "x = 1\n",
    "x = x + 1\n",
    "print(x)"
   ],
   "id": "2b76e7552059aa40",
   "outputs": [],
   "execution_count": null
  },
  {
   "cell_type": "code",
   "id": "39840811c090a09d",
   "metadata": {},
   "source": [
    "s = \"1\"\n",
    "s = s + \"1\"\n",
    "print(s)"
   ],
   "outputs": [],
   "execution_count": null
  },
  {
   "cell_type": "markdown",
   "id": "d07b6c686bc65fdd",
   "metadata": {},
   "source": [
    "### 3.3 標準入出力（input / print）\n",
    "- **入力**：`input()`\n",
    "- **出力**：`print()`で表示"
   ]
  },
  {
   "cell_type": "code",
   "id": "c049027dec125693",
   "metadata": {},
   "source": [
    "name = input()\n",
    "print(\"こんにちは、\", name)"
   ],
   "outputs": [],
   "execution_count": null
  },
  {
   "metadata": {},
   "cell_type": "code",
   "source": [
    "i = input()\n",
    "print(i + 2)"
   ],
   "id": "f100d3704e5acf34",
   "outputs": [],
   "execution_count": null
  },
  {
   "metadata": {},
   "cell_type": "markdown",
   "source": [
    "<br><br><br><br><br><br>\n",
    "### エラーが出ました！！\n",
    "### input() は str 型でよみこみます！！"
   ],
   "id": "439ce1cfc9ab6d2b"
  },
  {
   "metadata": {},
   "cell_type": "code",
   "source": [
    "i = int(input())\n",
    "print(i + 2)"
   ],
   "id": "dbeeea820999d271",
   "outputs": [],
   "execution_count": null
  },
  {
   "metadata": {},
   "cell_type": "code",
   "source": [
    "f = float(input())\n",
    "print(f + 2.1)"
   ],
   "id": "d3f8573b1714e92a",
   "outputs": [],
   "execution_count": null
  },
  {
   "cell_type": "markdown",
   "id": "18b6f4208b8811a2",
   "metadata": {},
   "source": [
    "### 3.4 条件分岐（if / elif / else）\n",
    "- **目的**：条件に応じて処理を分岐"
   ]
  },
  {
   "metadata": {},
   "cell_type": "code",
   "source": [
    "x = int(input())\n",
    "y = int(input())\n",
    "if x > y:\n",
    "print(\"xが大きい\")\n",
    "elif x == y:\n",
    "print(\"同じ\")\n",
    "else:\n",
    "print(\"yが大きい\")"
   ],
   "id": "f1a7145ff816dc98",
   "outputs": [],
   "execution_count": null
  },
  {
   "metadata": {},
   "cell_type": "markdown",
   "source": [
    "<br><br><br><br><br><br>\n",
    "### エラーが起こった！！！\n",
    "### ＞ インデントで、処理範囲を指定する必要があります！"
   ],
   "id": "2be15cea3b44cf3a"
  },
  {
   "metadata": {},
   "cell_type": "code",
   "source": [
    "x = int(input())\n",
    "y = int(input())\n",
    "if x > y:\n",
    "\tprint(\"xが大きい\")\n",
    "elif x == y:\n",
    "\tprint(\"同じ\")\n",
    "else:\n",
    "\tprint(\"yが大きい\")"
   ],
   "id": "e01aca54367c6237",
   "outputs": [],
   "execution_count": null
  },
  {
   "cell_type": "markdown",
   "id": "ef6cb1198734ac27",
   "metadata": {},
   "source": [
    "### 3.5 for 文と while 文\n",
    "\n",
    "- **目的**：繰り返し処理\n",
    "\t- `for i in range(n):` -> i を 0 から n-1 まで ループ させる。Σみたいなイメージ\n",
    "\t- **インデント**で繰り返し処理を行う範囲の指定\n",
    "\t- `while True:` -> 無限ループを行う。内部で`break`が実行されたらループが終わる。"
   ]
  },
  {
   "cell_type": "code",
   "id": "307a5186ff60b69",
   "metadata": {},
   "source": [
    "for i in range(5):\n",
    "print(i)"
   ],
   "outputs": [],
   "execution_count": null
  },
  {
   "cell_type": "code",
   "id": "d259e2d5da4d9136",
   "metadata": {},
   "source": [
    "for i in range(5):\n",
    "\tprint(i)"
   ],
   "outputs": [],
   "execution_count": null
  },
  {
   "metadata": {},
   "cell_type": "code",
   "source": [
    "while True:\n",
    "\tx = int(input())\n",
    "\tif x == 0:\n",
    "\t\tbreak\n",
    "\tprint(x)\n",
    "print(\"終了しました。\")"
   ],
   "id": "a847936414df397d",
   "outputs": [],
   "execution_count": null
  }
 ],
 "metadata": {
  "kernelspec": {
   "display_name": "Python 3",
   "language": "python",
   "name": "python3"
  },
  "language_info": {
   "codemirror_mode": {
    "name": "ipython",
    "version": 2
   },
   "file_extension": ".py",
   "mimetype": "text/x-python",
   "name": "python",
   "nbconvert_exporter": "python",
   "pygments_lexer": "ipython2",
   "version": "2.7.6"
  }
 },
 "nbformat": 4,
 "nbformat_minor": 5
}
